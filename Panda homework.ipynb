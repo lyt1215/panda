{
 "cells": [
  {
   "cell_type": "code",
   "execution_count": 1,
   "metadata": {},
   "outputs": [],
   "source": [
    "import pandas as pd\n",
    "import numpy as np"
   ]
  },
  {
   "cell_type": "code",
   "execution_count": 9,
   "metadata": {},
   "outputs": [
    {
     "data": {
      "text/plain": [
       "<bound method NDFrame.head of      Purchase ID             SN  Age  Gender  Item ID  \\\n",
       "0              0        Lisim78   20    Male      108   \n",
       "1              1    Lisovynya38   40    Male      143   \n",
       "2              2     Ithergue48   24    Male       92   \n",
       "3              3  Chamassasya86   24    Male      100   \n",
       "4              4      Iskosia90   23    Male      131   \n",
       "..           ...            ...  ...     ...      ...   \n",
       "775          775     Aethedru70   21  Female       60   \n",
       "776          776         Iral74   21    Male      164   \n",
       "777          777     Yathecal72   20    Male       67   \n",
       "778          778        Sisur91    7    Male      101   \n",
       "779          779      Ennrian78   24    Male       50   \n",
       "\n",
       "                                     Item Name  Price  \n",
       "0    Extraction, Quickblade Of Trembling Hands   3.53  \n",
       "1                            Frenzied Scimitar   1.56  \n",
       "2                                 Final Critic   4.88  \n",
       "3                                  Blindscythe   3.27  \n",
       "4                                         Fury   1.44  \n",
       "..                                         ...    ...  \n",
       "775                                       Wolf   3.54  \n",
       "776                           Exiled Doomblade   1.63  \n",
       "777      Celeste, Incarnation of the Corrupted   3.46  \n",
       "778                               Final Critic   4.19  \n",
       "779                                       Dawn   4.60  \n",
       "\n",
       "[780 rows x 7 columns]>"
      ]
     },
     "execution_count": 9,
     "metadata": {},
     "output_type": "execute_result"
    }
   ],
   "source": [
    "df = pd.read_csv(r\"C:\\Users\\Owner\\Desktop\\panda\\data.csv\")\n",
    "df.head"
   ]
  },
  {
   "cell_type": "code",
   "execution_count": 10,
   "metadata": {},
   "outputs": [
    {
     "data": {
      "text/html": [
       "<div>\n",
       "<style scoped>\n",
       "    .dataframe tbody tr th:only-of-type {\n",
       "        vertical-align: middle;\n",
       "    }\n",
       "\n",
       "    .dataframe tbody tr th {\n",
       "        vertical-align: top;\n",
       "    }\n",
       "\n",
       "    .dataframe thead th {\n",
       "        text-align: right;\n",
       "    }\n",
       "</style>\n",
       "<table border=\"1\" class=\"dataframe\">\n",
       "  <thead>\n",
       "    <tr style=\"text-align: right;\">\n",
       "      <th></th>\n",
       "      <th>Total Players</th>\n",
       "    </tr>\n",
       "  </thead>\n",
       "  <tbody>\n",
       "    <tr>\n",
       "      <td>0</td>\n",
       "      <td>576</td>\n",
       "    </tr>\n",
       "  </tbody>\n",
       "</table>\n",
       "</div>"
      ],
      "text/plain": [
       "   Total Players\n",
       "0            576"
      ]
     },
     "execution_count": 10,
     "metadata": {},
     "output_type": "execute_result"
    }
   ],
   "source": [
    "#total number of players\n",
    "uniqueplayers = df['SN'].nunique()\n",
    "total_players_final = pd.DataFrame({\"Total Players\": [uniqueplayers]}, columns= [\"Total Players\"])\n",
    "total_players_final"
   ]
  },
  {
   "cell_type": "code",
   "execution_count": 11,
   "metadata": {},
   "outputs": [
    {
     "data": {
      "text/html": [
       "<style  type=\"text/css\" >\n",
       "</style><table id=\"T_d76c2f74_c910_11e9_bc10_408d5c5958a8\" ><thead>    <tr>        <th class=\"blank level0\" ></th>        <th class=\"col_heading level0 col0\" >Number of Unique Items</th>        <th class=\"col_heading level0 col1\" >Average Purchase Price</th>        <th class=\"col_heading level0 col2\" >Number of Purchases</th>        <th class=\"col_heading level0 col3\" >Total Revenue</th>    </tr></thead><tbody>\n",
       "                <tr>\n",
       "                        <th id=\"T_d76c2f74_c910_11e9_bc10_408d5c5958a8level0_row0\" class=\"row_heading level0 row0\" >0</th>\n",
       "                        <td id=\"T_d76c2f74_c910_11e9_bc10_408d5c5958a8row0_col0\" class=\"data row0 col0\" >183</td>\n",
       "                        <td id=\"T_d76c2f74_c910_11e9_bc10_408d5c5958a8row0_col1\" class=\"data row0 col1\" >$3.05</td>\n",
       "                        <td id=\"T_d76c2f74_c910_11e9_bc10_408d5c5958a8row0_col2\" class=\"data row0 col2\" >780</td>\n",
       "                        <td id=\"T_d76c2f74_c910_11e9_bc10_408d5c5958a8row0_col3\" class=\"data row0 col3\" >$2379.77</td>\n",
       "            </tr>\n",
       "    </tbody></table>"
      ],
      "text/plain": [
       "<pandas.io.formats.style.Styler at 0x1e9205bbfc8>"
      ]
     },
     "execution_count": 11,
     "metadata": {},
     "output_type": "execute_result"
    }
   ],
   "source": [
    "#find number of unique items sold, purchase price, number of purchases, and total revenue for full dataframe\n",
    "uniqueitems = df['Item ID'].nunique()\n",
    "avgprice = (df['Price'].sum()/df['Price'].count()).round(2)\n",
    "totalpurchases = df['Price'].count()\n",
    "totalrevenue = df[\"Price\"].sum()\n",
    "\n",
    "total_analysis_df = pd.DataFrame({\"Number of Unique Items\": [uniqueitems], \n",
    "                              \"Average Purchase Price\": [avgprice],\n",
    "                             \"Number of Purchases\": [totalpurchases],\n",
    "                             \"Total Revenue\": [totalrevenue]}, columns= [\"Number of Unique Items\", \"Average Purchase Price\",\n",
    "                            \"Number of Purchases\", \"Total Revenue\"])\n",
    "\n",
    "total_analysis_df.style.format({\"Average Purchase Price\": \"${:.2f}\", \"Total Revenue\": \"${:.2f}\"})"
   ]
  },
  {
   "cell_type": "code",
   "execution_count": 12,
   "metadata": {},
   "outputs": [
    {
     "data": {
      "text/html": [
       "<style  type=\"text/css\" >\n",
       "</style><table id=\"T_e0b95bfe_c910_11e9_babd_408d5c5958a8\" ><thead>    <tr>        <th class=\"blank level0\" ></th>        <th class=\"col_heading level0 col0\" >Percentage of Players</th>        <th class=\"col_heading level0 col1\" >Total Count</th>    </tr>    <tr>        <th class=\"index_name level0\" >Gender</th>        <th class=\"blank\" ></th>        <th class=\"blank\" ></th>    </tr></thead><tbody>\n",
       "                <tr>\n",
       "                        <th id=\"T_e0b95bfe_c910_11e9_babd_408d5c5958a8level0_row0\" class=\"row_heading level0 row0\" >Male</th>\n",
       "                        <td id=\"T_e0b95bfe_c910_11e9_babd_408d5c5958a8row0_col0\" class=\"data row0 col0\" >84.03%</td>\n",
       "                        <td id=\"T_e0b95bfe_c910_11e9_babd_408d5c5958a8row0_col1\" class=\"data row0 col1\" >484</td>\n",
       "            </tr>\n",
       "            <tr>\n",
       "                        <th id=\"T_e0b95bfe_c910_11e9_babd_408d5c5958a8level0_row1\" class=\"row_heading level0 row1\" >Female</th>\n",
       "                        <td id=\"T_e0b95bfe_c910_11e9_babd_408d5c5958a8row1_col0\" class=\"data row1 col0\" >14.06%</td>\n",
       "                        <td id=\"T_e0b95bfe_c910_11e9_babd_408d5c5958a8row1_col1\" class=\"data row1 col1\" >81</td>\n",
       "            </tr>\n",
       "            <tr>\n",
       "                        <th id=\"T_e0b95bfe_c910_11e9_babd_408d5c5958a8level0_row2\" class=\"row_heading level0 row2\" >Other / Non-Disclosed</th>\n",
       "                        <td id=\"T_e0b95bfe_c910_11e9_babd_408d5c5958a8row2_col0\" class=\"data row2 col0\" >1.91%</td>\n",
       "                        <td id=\"T_e0b95bfe_c910_11e9_babd_408d5c5958a8row2_col1\" class=\"data row2 col1\" >11</td>\n",
       "            </tr>\n",
       "    </tbody></table>"
      ],
      "text/plain": [
       "<pandas.io.formats.style.Styler at 0x1e92091b188>"
      ]
     },
     "execution_count": 12,
     "metadata": {},
     "output_type": "execute_result"
    }
   ],
   "source": [
    "fullcount = df[\"SN\"].nunique()\n",
    "malecount = df[df[\"Gender\"] == \"Male\"][\"SN\"].nunique()\n",
    "femalecount = df[df[\"Gender\"] == \"Female\"][\"SN\"].nunique()\n",
    "othercount = fullcount - malecount - femalecount\n",
    "maleperc = ((malecount/fullcount)*100)\n",
    "femaleperc = ((femalecount/fullcount)*100)\n",
    "otherperc = ((othercount/fullcount)*100)\n",
    "\n",
    "gender_demo_df = pd.DataFrame({\"Gender\": [\"Male\", \"Female\", \"Other / Non-Disclosed\"], \"Percentage of Players\": [maleperc, femaleperc, otherperc],\n",
    "                                        \"Total Count\": [malecount, femalecount, othercount]}, columns = \n",
    "                                        [\"Gender\", \"Percentage of Players\", \"Total Count\"])\n",
    "                                        \n",
    "gender_demo_final = gender_demo_df.set_index(\"Gender\")\n",
    "gender_demo_final.style.format({\"Percentage of Players\": \"{:.2f}%\"})                         "
   ]
  },
  {
   "cell_type": "code",
   "execution_count": 13,
   "metadata": {},
   "outputs": [
    {
     "data": {
      "text/html": [
       "<style  type=\"text/css\" >\n",
       "</style><table id=\"T_ee67ce5a_c910_11e9_9086_408d5c5958a8\" ><thead>    <tr>        <th class=\"blank level0\" ></th>        <th class=\"col_heading level0 col0\" >Purchase Count</th>        <th class=\"col_heading level0 col1\" >Average Purchase Price</th>        <th class=\"col_heading level0 col2\" >Total Purchase Value</th>        <th class=\"col_heading level0 col3\" >Normalized Totals</th>    </tr>    <tr>        <th class=\"index_name level0\" >Gender</th>        <th class=\"blank\" ></th>        <th class=\"blank\" ></th>        <th class=\"blank\" ></th>        <th class=\"blank\" ></th>    </tr></thead><tbody>\n",
       "                <tr>\n",
       "                        <th id=\"T_ee67ce5a_c910_11e9_9086_408d5c5958a8level0_row0\" class=\"row_heading level0 row0\" >Male</th>\n",
       "                        <td id=\"T_ee67ce5a_c910_11e9_9086_408d5c5958a8row0_col0\" class=\"data row0 col0\" >652</td>\n",
       "                        <td id=\"T_ee67ce5a_c910_11e9_9086_408d5c5958a8row0_col1\" class=\"data row0 col1\" >$3.02</td>\n",
       "                        <td id=\"T_ee67ce5a_c910_11e9_9086_408d5c5958a8row0_col2\" class=\"data row0 col2\" >$1967.64</td>\n",
       "                        <td id=\"T_ee67ce5a_c910_11e9_9086_408d5c5958a8row0_col3\" class=\"data row0 col3\" >$4.07</td>\n",
       "            </tr>\n",
       "            <tr>\n",
       "                        <th id=\"T_ee67ce5a_c910_11e9_9086_408d5c5958a8level0_row1\" class=\"row_heading level0 row1\" >Female</th>\n",
       "                        <td id=\"T_ee67ce5a_c910_11e9_9086_408d5c5958a8row1_col0\" class=\"data row1 col0\" >113</td>\n",
       "                        <td id=\"T_ee67ce5a_c910_11e9_9086_408d5c5958a8row1_col1\" class=\"data row1 col1\" >$3.20</td>\n",
       "                        <td id=\"T_ee67ce5a_c910_11e9_9086_408d5c5958a8row1_col2\" class=\"data row1 col2\" >$361.94</td>\n",
       "                        <td id=\"T_ee67ce5a_c910_11e9_9086_408d5c5958a8row1_col3\" class=\"data row1 col3\" >$4.47</td>\n",
       "            </tr>\n",
       "            <tr>\n",
       "                        <th id=\"T_ee67ce5a_c910_11e9_9086_408d5c5958a8level0_row2\" class=\"row_heading level0 row2\" >Other / Non-Disclosed</th>\n",
       "                        <td id=\"T_ee67ce5a_c910_11e9_9086_408d5c5958a8row2_col0\" class=\"data row2 col0\" >15</td>\n",
       "                        <td id=\"T_ee67ce5a_c910_11e9_9086_408d5c5958a8row2_col1\" class=\"data row2 col1\" >$3.35</td>\n",
       "                        <td id=\"T_ee67ce5a_c910_11e9_9086_408d5c5958a8row2_col2\" class=\"data row2 col2\" >$50.19</td>\n",
       "                        <td id=\"T_ee67ce5a_c910_11e9_9086_408d5c5958a8row2_col3\" class=\"data row2 col3\" >$4.56</td>\n",
       "            </tr>\n",
       "    </tbody></table>"
      ],
      "text/plain": [
       "<pandas.io.formats.style.Styler at 0x1e9205b5ec8>"
      ]
     },
     "execution_count": 13,
     "metadata": {},
     "output_type": "execute_result"
    }
   ],
   "source": [
    "malepurch = df[df[\"Gender\"] == \"Male\"][\"Price\"].count()\n",
    "femalepurch = df[df[\"Gender\"] == \"Female\"][\"Price\"].count()\n",
    "otherpurch = totalpurchases - malepurch - femalepurch\n",
    "mpriceavg = df[df[\"Gender\"] == \"Male\"]['Price'].mean()\n",
    "fpriceavg = df[df[\"Gender\"] == \"Female\"]['Price'].mean()\n",
    "opriceavg = df[df[\"Gender\"] == \"Other / Non-Disclosed\"]['Price'].mean()\n",
    "mpricetot = df[df[\"Gender\"] == \"Male\"]['Price'].sum()\n",
    "fpricetot = df[df[\"Gender\"] == \"Female\"]['Price'].sum()\n",
    "opricetot = df[df[\"Gender\"] == \"Other / Non-Disclosed\"]['Price'].sum()\n",
    "mnorm = mpricetot/malecount\n",
    "fnorm = fpricetot/femalecount\n",
    "onorm = opricetot/othercount\n",
    "\n",
    "gender_purchase_df = pd.DataFrame({\"Gender\": [\"Male\", \"Female\", \"Other / Non-Disclosed\"], \"Purchase Count\": [malepurch, femalepurch, otherpurch],\n",
    "                                        \"Average Purchase Price\": [mpriceavg, fpriceavg, opriceavg], \"Total Purchase Value\": [mpricetot, fpricetot, opricetot],\n",
    "                                \"Normalized Totals\": [mnorm, fnorm, onorm]}, columns = \n",
    "                                        [\"Gender\", \"Purchase Count\", \"Average Purchase Price\", \"Total Purchase Value\", \"Normalized Totals\"])\n",
    "                                        \n",
    "gender_purchase_final = gender_purchase_df.set_index(\"Gender\")\n",
    "gender_purchase_final.style.format({\"Average Purchase Price\": \"${:.2f}\", \"Total Purchase Value\": \"${:.2f}\", \"Normalized Totals\": \"${:.2f}\"})"
   ]
  },
  {
   "cell_type": "code",
   "execution_count": 14,
   "metadata": {},
   "outputs": [
    {
     "data": {
      "text/html": [
       "<style  type=\"text/css\" >\n",
       "</style><table id=\"T_fe462734_c910_11e9_8214_408d5c5958a8\" ><thead>    <tr>        <th class=\"blank level0\" ></th>        <th class=\"col_heading level0 col0\" >Percentage of Players</th>        <th class=\"col_heading level0 col1\" >Total Count</th>    </tr>    <tr>        <th class=\"index_name level0\" >Age</th>        <th class=\"blank\" ></th>        <th class=\"blank\" ></th>    </tr></thead><tbody>\n",
       "                <tr>\n",
       "                        <th id=\"T_fe462734_c910_11e9_8214_408d5c5958a8level0_row0\" class=\"row_heading level0 row0\" ><10</th>\n",
       "                        <td id=\"T_fe462734_c910_11e9_8214_408d5c5958a8row0_col0\" class=\"data row0 col0\" >2.95%</td>\n",
       "                        <td id=\"T_fe462734_c910_11e9_8214_408d5c5958a8row0_col1\" class=\"data row0 col1\" >17</td>\n",
       "            </tr>\n",
       "            <tr>\n",
       "                        <th id=\"T_fe462734_c910_11e9_8214_408d5c5958a8level0_row1\" class=\"row_heading level0 row1\" >10-14</th>\n",
       "                        <td id=\"T_fe462734_c910_11e9_8214_408d5c5958a8row1_col0\" class=\"data row1 col0\" >3.82%</td>\n",
       "                        <td id=\"T_fe462734_c910_11e9_8214_408d5c5958a8row1_col1\" class=\"data row1 col1\" >22</td>\n",
       "            </tr>\n",
       "            <tr>\n",
       "                        <th id=\"T_fe462734_c910_11e9_8214_408d5c5958a8level0_row2\" class=\"row_heading level0 row2\" >15-19</th>\n",
       "                        <td id=\"T_fe462734_c910_11e9_8214_408d5c5958a8row2_col0\" class=\"data row2 col0\" >18.58%</td>\n",
       "                        <td id=\"T_fe462734_c910_11e9_8214_408d5c5958a8row2_col1\" class=\"data row2 col1\" >107</td>\n",
       "            </tr>\n",
       "            <tr>\n",
       "                        <th id=\"T_fe462734_c910_11e9_8214_408d5c5958a8level0_row3\" class=\"row_heading level0 row3\" >20-24</th>\n",
       "                        <td id=\"T_fe462734_c910_11e9_8214_408d5c5958a8row3_col0\" class=\"data row3 col0\" >44.79%</td>\n",
       "                        <td id=\"T_fe462734_c910_11e9_8214_408d5c5958a8row3_col1\" class=\"data row3 col1\" >258</td>\n",
       "            </tr>\n",
       "            <tr>\n",
       "                        <th id=\"T_fe462734_c910_11e9_8214_408d5c5958a8level0_row4\" class=\"row_heading level0 row4\" >25-29</th>\n",
       "                        <td id=\"T_fe462734_c910_11e9_8214_408d5c5958a8row4_col0\" class=\"data row4 col0\" >13.37%</td>\n",
       "                        <td id=\"T_fe462734_c910_11e9_8214_408d5c5958a8row4_col1\" class=\"data row4 col1\" >77</td>\n",
       "            </tr>\n",
       "            <tr>\n",
       "                        <th id=\"T_fe462734_c910_11e9_8214_408d5c5958a8level0_row5\" class=\"row_heading level0 row5\" >30-34</th>\n",
       "                        <td id=\"T_fe462734_c910_11e9_8214_408d5c5958a8row5_col0\" class=\"data row5 col0\" >9.03%</td>\n",
       "                        <td id=\"T_fe462734_c910_11e9_8214_408d5c5958a8row5_col1\" class=\"data row5 col1\" >52</td>\n",
       "            </tr>\n",
       "            <tr>\n",
       "                        <th id=\"T_fe462734_c910_11e9_8214_408d5c5958a8level0_row6\" class=\"row_heading level0 row6\" >35-39</th>\n",
       "                        <td id=\"T_fe462734_c910_11e9_8214_408d5c5958a8row6_col0\" class=\"data row6 col0\" >5.38%</td>\n",
       "                        <td id=\"T_fe462734_c910_11e9_8214_408d5c5958a8row6_col1\" class=\"data row6 col1\" >31</td>\n",
       "            </tr>\n",
       "            <tr>\n",
       "                        <th id=\"T_fe462734_c910_11e9_8214_408d5c5958a8level0_row7\" class=\"row_heading level0 row7\" >40-44</th>\n",
       "                        <td id=\"T_fe462734_c910_11e9_8214_408d5c5958a8row7_col0\" class=\"data row7 col0\" >1.91%</td>\n",
       "                        <td id=\"T_fe462734_c910_11e9_8214_408d5c5958a8row7_col1\" class=\"data row7 col1\" >11</td>\n",
       "            </tr>\n",
       "            <tr>\n",
       "                        <th id=\"T_fe462734_c910_11e9_8214_408d5c5958a8level0_row8\" class=\"row_heading level0 row8\" >45-49</th>\n",
       "                        <td id=\"T_fe462734_c910_11e9_8214_408d5c5958a8row8_col0\" class=\"data row8 col0\" >0.17%</td>\n",
       "                        <td id=\"T_fe462734_c910_11e9_8214_408d5c5958a8row8_col1\" class=\"data row8 col1\" >1</td>\n",
       "            </tr>\n",
       "    </tbody></table>"
      ],
      "text/plain": [
       "<pandas.io.formats.style.Styler at 0x1e920967d08>"
      ]
     },
     "execution_count": 14,
     "metadata": {},
     "output_type": "execute_result"
    }
   ],
   "source": [
    "#create age parameters - 4 year length\n",
    "#create dataframe of unique players in each age group, find percentage against full count of players\n",
    "\n",
    "tenyears = df[df[\"Age\"] <10]\n",
    "loteens = df[(df[\"Age\"] >=10) & (df[\"Age\"] <=14)]\n",
    "hiteens = df[(df[\"Age\"] >=15) & (df[\"Age\"] <=19)]\n",
    "lotwent = df[(df[\"Age\"] >=20) & (df[\"Age\"] <=24)]\n",
    "hitwent = df[(df[\"Age\"] >=25) & (df[\"Age\"] <=29)]\n",
    "lothirt = df[(df[\"Age\"] >=30) & (df[\"Age\"] <=34)]\n",
    "hithirt = df[(df[\"Age\"] >=35) & (df[\"Age\"] <=39)]\n",
    "loforty = df[(df[\"Age\"] >=40) & (df[\"Age\"] <=44)]\n",
    "hiforty = df[(df[\"Age\"] >=45) & (df[\"Age\"] <=49)]\n",
    "\n",
    "age_demo_df = pd.DataFrame({\"Age\": [\"<10\", \"10-14\", \"15-19\", \"20-24\", \"25-29\", \"30-34\", \"35-39\", \"40-44\", \"45-49\"],\n",
    "                        \"Percentage of Players\": [(tenyears[\"SN\"].nunique()/fullcount)*100, (loteens[\"SN\"].nunique()/fullcount)*100, (hiteens[\"SN\"].nunique()/fullcount)*100, (lotwent[\"SN\"].nunique()/fullcount)*100, (hitwent[\"SN\"].nunique()/fullcount)*100, (lothirt[\"SN\"].nunique()/fullcount)*100, (hithirt[\"SN\"].nunique()/fullcount)*100, (loforty[\"SN\"].nunique()/fullcount)*100, (hiforty[\"SN\"].nunique()/fullcount)*100],\n",
    "                        \"Total Count\": [tenyears[\"SN\"].nunique(), loteens[\"SN\"].nunique(), hiteens[\"SN\"].nunique(), lotwent[\"SN\"].nunique(), hitwent[\"SN\"].nunique(), lothirt[\"SN\"].nunique(), hithirt[\"SN\"].nunique(), loforty[\"SN\"].nunique(), hiforty[\"SN\"].nunique()]\n",
    "                       })\n",
    "\n",
    "age_demo_final = age_demo_df.set_index(\"Age\")\n",
    "age_demo_final.style.format({\"Percentage of Players\": \"{:.2f}%\"})  \n",
    "                        "
   ]
  },
  {
   "cell_type": "code",
   "execution_count": 16,
   "metadata": {},
   "outputs": [
    {
     "data": {
      "text/html": [
       "<style  type=\"text/css\" >\n",
       "</style><table id=\"T_16254ffa_c911_11e9_886d_408d5c5958a8\" ><thead>    <tr>        <th class=\"blank level0\" ></th>        <th class=\"col_heading level0 col0\" >Purchase Count</th>        <th class=\"col_heading level0 col1\" >Average Purchase Price</th>        <th class=\"col_heading level0 col2\" >Total Purchase Value</th>        <th class=\"col_heading level0 col3\" >Normalized Totals</th>    </tr>    <tr>        <th class=\"index_name level0\" >Age</th>        <th class=\"blank\" ></th>        <th class=\"blank\" ></th>        <th class=\"blank\" ></th>        <th class=\"blank\" ></th>    </tr></thead><tbody>\n",
       "                <tr>\n",
       "                        <th id=\"T_16254ffa_c911_11e9_886d_408d5c5958a8level0_row0\" class=\"row_heading level0 row0\" ><10</th>\n",
       "                        <td id=\"T_16254ffa_c911_11e9_886d_408d5c5958a8row0_col0\" class=\"data row0 col0\" >23</td>\n",
       "                        <td id=\"T_16254ffa_c911_11e9_886d_408d5c5958a8row0_col1\" class=\"data row0 col1\" >$3.35</td>\n",
       "                        <td id=\"T_16254ffa_c911_11e9_886d_408d5c5958a8row0_col2\" class=\"data row0 col2\" >$77.13</td>\n",
       "                        <td id=\"T_16254ffa_c911_11e9_886d_408d5c5958a8row0_col3\" class=\"data row0 col3\" >$4.54</td>\n",
       "            </tr>\n",
       "            <tr>\n",
       "                        <th id=\"T_16254ffa_c911_11e9_886d_408d5c5958a8level0_row1\" class=\"row_heading level0 row1\" >10-14</th>\n",
       "                        <td id=\"T_16254ffa_c911_11e9_886d_408d5c5958a8row1_col0\" class=\"data row1 col0\" >28</td>\n",
       "                        <td id=\"T_16254ffa_c911_11e9_886d_408d5c5958a8row1_col1\" class=\"data row1 col1\" >$2.96</td>\n",
       "                        <td id=\"T_16254ffa_c911_11e9_886d_408d5c5958a8row1_col2\" class=\"data row1 col2\" >$82.78</td>\n",
       "                        <td id=\"T_16254ffa_c911_11e9_886d_408d5c5958a8row1_col3\" class=\"data row1 col3\" >$3.76</td>\n",
       "            </tr>\n",
       "            <tr>\n",
       "                        <th id=\"T_16254ffa_c911_11e9_886d_408d5c5958a8level0_row2\" class=\"row_heading level0 row2\" >15-19</th>\n",
       "                        <td id=\"T_16254ffa_c911_11e9_886d_408d5c5958a8row2_col0\" class=\"data row2 col0\" >136</td>\n",
       "                        <td id=\"T_16254ffa_c911_11e9_886d_408d5c5958a8row2_col1\" class=\"data row2 col1\" >$3.04</td>\n",
       "                        <td id=\"T_16254ffa_c911_11e9_886d_408d5c5958a8row2_col2\" class=\"data row2 col2\" >$412.89</td>\n",
       "                        <td id=\"T_16254ffa_c911_11e9_886d_408d5c5958a8row2_col3\" class=\"data row2 col3\" >$3.86</td>\n",
       "            </tr>\n",
       "            <tr>\n",
       "                        <th id=\"T_16254ffa_c911_11e9_886d_408d5c5958a8level0_row3\" class=\"row_heading level0 row3\" >20-24</th>\n",
       "                        <td id=\"T_16254ffa_c911_11e9_886d_408d5c5958a8row3_col0\" class=\"data row3 col0\" >365</td>\n",
       "                        <td id=\"T_16254ffa_c911_11e9_886d_408d5c5958a8row3_col1\" class=\"data row3 col1\" >$3.05</td>\n",
       "                        <td id=\"T_16254ffa_c911_11e9_886d_408d5c5958a8row3_col2\" class=\"data row3 col2\" >$1114.06</td>\n",
       "                        <td id=\"T_16254ffa_c911_11e9_886d_408d5c5958a8row3_col3\" class=\"data row3 col3\" >$4.32</td>\n",
       "            </tr>\n",
       "            <tr>\n",
       "                        <th id=\"T_16254ffa_c911_11e9_886d_408d5c5958a8level0_row4\" class=\"row_heading level0 row4\" >25-29</th>\n",
       "                        <td id=\"T_16254ffa_c911_11e9_886d_408d5c5958a8row4_col0\" class=\"data row4 col0\" >101</td>\n",
       "                        <td id=\"T_16254ffa_c911_11e9_886d_408d5c5958a8row4_col1\" class=\"data row4 col1\" >$2.90</td>\n",
       "                        <td id=\"T_16254ffa_c911_11e9_886d_408d5c5958a8row4_col2\" class=\"data row4 col2\" >$293.00</td>\n",
       "                        <td id=\"T_16254ffa_c911_11e9_886d_408d5c5958a8row4_col3\" class=\"data row4 col3\" >$3.81</td>\n",
       "            </tr>\n",
       "            <tr>\n",
       "                        <th id=\"T_16254ffa_c911_11e9_886d_408d5c5958a8level0_row5\" class=\"row_heading level0 row5\" >30-34</th>\n",
       "                        <td id=\"T_16254ffa_c911_11e9_886d_408d5c5958a8row5_col0\" class=\"data row5 col0\" >73</td>\n",
       "                        <td id=\"T_16254ffa_c911_11e9_886d_408d5c5958a8row5_col1\" class=\"data row5 col1\" >$2.93</td>\n",
       "                        <td id=\"T_16254ffa_c911_11e9_886d_408d5c5958a8row5_col2\" class=\"data row5 col2\" >$214.00</td>\n",
       "                        <td id=\"T_16254ffa_c911_11e9_886d_408d5c5958a8row5_col3\" class=\"data row5 col3\" >$4.12</td>\n",
       "            </tr>\n",
       "            <tr>\n",
       "                        <th id=\"T_16254ffa_c911_11e9_886d_408d5c5958a8level0_row6\" class=\"row_heading level0 row6\" >35-39</th>\n",
       "                        <td id=\"T_16254ffa_c911_11e9_886d_408d5c5958a8row6_col0\" class=\"data row6 col0\" >41</td>\n",
       "                        <td id=\"T_16254ffa_c911_11e9_886d_408d5c5958a8row6_col1\" class=\"data row6 col1\" >$3.60</td>\n",
       "                        <td id=\"T_16254ffa_c911_11e9_886d_408d5c5958a8row6_col2\" class=\"data row6 col2\" >$147.67</td>\n",
       "                        <td id=\"T_16254ffa_c911_11e9_886d_408d5c5958a8row6_col3\" class=\"data row6 col3\" >$4.76</td>\n",
       "            </tr>\n",
       "            <tr>\n",
       "                        <th id=\"T_16254ffa_c911_11e9_886d_408d5c5958a8level0_row7\" class=\"row_heading level0 row7\" >40-44</th>\n",
       "                        <td id=\"T_16254ffa_c911_11e9_886d_408d5c5958a8row7_col0\" class=\"data row7 col0\" >12</td>\n",
       "                        <td id=\"T_16254ffa_c911_11e9_886d_408d5c5958a8row7_col1\" class=\"data row7 col1\" >$3.04</td>\n",
       "                        <td id=\"T_16254ffa_c911_11e9_886d_408d5c5958a8row7_col2\" class=\"data row7 col2\" >$36.54</td>\n",
       "                        <td id=\"T_16254ffa_c911_11e9_886d_408d5c5958a8row7_col3\" class=\"data row7 col3\" >$3.32</td>\n",
       "            </tr>\n",
       "            <tr>\n",
       "                        <th id=\"T_16254ffa_c911_11e9_886d_408d5c5958a8level0_row8\" class=\"row_heading level0 row8\" >45-49</th>\n",
       "                        <td id=\"T_16254ffa_c911_11e9_886d_408d5c5958a8row8_col0\" class=\"data row8 col0\" >1</td>\n",
       "                        <td id=\"T_16254ffa_c911_11e9_886d_408d5c5958a8row8_col1\" class=\"data row8 col1\" >$1.70</td>\n",
       "                        <td id=\"T_16254ffa_c911_11e9_886d_408d5c5958a8row8_col2\" class=\"data row8 col2\" >$1.70</td>\n",
       "                        <td id=\"T_16254ffa_c911_11e9_886d_408d5c5958a8row8_col3\" class=\"data row8 col3\" >$1.70</td>\n",
       "            </tr>\n",
       "    </tbody></table>"
      ],
      "text/plain": [
       "<pandas.io.formats.style.Styler at 0x1e92096d848>"
      ]
     },
     "execution_count": 16,
     "metadata": {},
     "output_type": "execute_result"
    }
   ],
   "source": [
    "age_purchasing_df = pd.DataFrame({\"Age\": [\"<10\", \"10-14\", \"15-19\", \"20-24\", \"25-29\", \"30-34\", \"35-39\", \"40-44\", \"45-49\"],\n",
    "                              \"Purchase Count\": [tenyears[\"Price\"].count(), loteens[\"Price\"].count(), hiteens[\"Price\"].count(), lotwent[\"Price\"].count(), hitwent[\"Price\"].count(), lothirt[\"Price\"].count(), hithirt[\"Price\"].count(), loforty[\"Price\"].count(), hiforty[\"Price\"].count()],\n",
    "                              \"Average Purchase Price\": [tenyears[\"Price\"].mean(), loteens[\"Price\"].mean(), hiteens[\"Price\"].mean(), lotwent[\"Price\"].mean(), hitwent[\"Price\"].mean(), lothirt[\"Price\"].mean(), hithirt[\"Price\"].mean(), loforty[\"Price\"].mean(), hiforty[\"Price\"].mean()], \n",
    "                              \"Total Purchase Value\": [tenyears[\"Price\"].sum(), loteens[\"Price\"].sum(), hiteens[\"Price\"].sum(), lotwent[\"Price\"].sum(), hitwent[\"Price\"].sum(), lothirt[\"Price\"].sum(), hithirt[\"Price\"].sum(), loforty[\"Price\"].sum(), hiforty[\"Price\"].sum()],\n",
    "                              \"Normalized Totals\": [tenyears[\"Price\"].sum()/tenyears['SN'].nunique(), loteens[\"Price\"].sum()/loteens['SN'].nunique(), hiteens[\"Price\"].sum()/hiteens['SN'].nunique(), \n",
    "                                                    lotwent[\"Price\"].sum()/lotwent['SN'].nunique(), hitwent[\"Price\"].sum()/hitwent['SN'].nunique(), \n",
    "                                                    lothirt[\"Price\"].sum()/lothirt['SN'].nunique(), hithirt[\"Price\"].sum()/hithirt['SN'].nunique(), \n",
    "                                                    loforty[\"Price\"].sum()/loforty['SN'].nunique(), hiforty[\"Price\"].sum()/hiforty['SN'].nunique()]}, \n",
    "                             columns = \n",
    "                            [\"Age\", \"Purchase Count\", \"Average Purchase Price\", \"Total Purchase Value\", \"Normalized Totals\"])\n",
    "\n",
    "age_purchasing_final = age_purchasing_df.set_index(\"Age\")\n",
    "\n",
    "age_purchasing_final.style.format({\"Average Purchase Price\": \"${:.2f}\", \"Total Purchase Value\": \"${:.2f}\", \"Normalized Totals\": \"${:.2f}\"})"
   ]
  },
  {
   "cell_type": "code",
   "execution_count": 17,
   "metadata": {},
   "outputs": [
    {
     "data": {
      "text/html": [
       "<style  type=\"text/css\" >\n",
       "</style><table id=\"T_28680f08_c911_11e9_bb8f_408d5c5958a8\" ><thead>    <tr>        <th class=\"blank level0\" ></th>        <th class=\"col_heading level0 col0\" >Purchase Count</th>        <th class=\"col_heading level0 col1\" >Average Purchase Price</th>        <th class=\"col_heading level0 col2\" >Total Purchase Value</th>    </tr>    <tr>        <th class=\"index_name level0\" >SN</th>        <th class=\"blank\" ></th>        <th class=\"blank\" ></th>        <th class=\"blank\" ></th>    </tr></thead><tbody>\n",
       "                <tr>\n",
       "                        <th id=\"T_28680f08_c911_11e9_bb8f_408d5c5958a8level0_row0\" class=\"row_heading level0 row0\" >Lisosia93</th>\n",
       "                        <td id=\"T_28680f08_c911_11e9_bb8f_408d5c5958a8row0_col0\" class=\"data row0 col0\" >5</td>\n",
       "                        <td id=\"T_28680f08_c911_11e9_bb8f_408d5c5958a8row0_col1\" class=\"data row0 col1\" >$3.79</td>\n",
       "                        <td id=\"T_28680f08_c911_11e9_bb8f_408d5c5958a8row0_col2\" class=\"data row0 col2\" >$18.96</td>\n",
       "            </tr>\n",
       "            <tr>\n",
       "                        <th id=\"T_28680f08_c911_11e9_bb8f_408d5c5958a8level0_row1\" class=\"row_heading level0 row1\" >Idastidru52</th>\n",
       "                        <td id=\"T_28680f08_c911_11e9_bb8f_408d5c5958a8row1_col0\" class=\"data row1 col0\" >4</td>\n",
       "                        <td id=\"T_28680f08_c911_11e9_bb8f_408d5c5958a8row1_col1\" class=\"data row1 col1\" >$3.86</td>\n",
       "                        <td id=\"T_28680f08_c911_11e9_bb8f_408d5c5958a8row1_col2\" class=\"data row1 col2\" >$15.45</td>\n",
       "            </tr>\n",
       "            <tr>\n",
       "                        <th id=\"T_28680f08_c911_11e9_bb8f_408d5c5958a8level0_row2\" class=\"row_heading level0 row2\" >Chamjask73</th>\n",
       "                        <td id=\"T_28680f08_c911_11e9_bb8f_408d5c5958a8row2_col0\" class=\"data row2 col0\" >3</td>\n",
       "                        <td id=\"T_28680f08_c911_11e9_bb8f_408d5c5958a8row2_col1\" class=\"data row2 col1\" >$4.61</td>\n",
       "                        <td id=\"T_28680f08_c911_11e9_bb8f_408d5c5958a8row2_col2\" class=\"data row2 col2\" >$13.83</td>\n",
       "            </tr>\n",
       "            <tr>\n",
       "                        <th id=\"T_28680f08_c911_11e9_bb8f_408d5c5958a8level0_row3\" class=\"row_heading level0 row3\" >Iral74</th>\n",
       "                        <td id=\"T_28680f08_c911_11e9_bb8f_408d5c5958a8row3_col0\" class=\"data row3 col0\" >4</td>\n",
       "                        <td id=\"T_28680f08_c911_11e9_bb8f_408d5c5958a8row3_col1\" class=\"data row3 col1\" >$3.40</td>\n",
       "                        <td id=\"T_28680f08_c911_11e9_bb8f_408d5c5958a8row3_col2\" class=\"data row3 col2\" >$13.62</td>\n",
       "            </tr>\n",
       "            <tr>\n",
       "                        <th id=\"T_28680f08_c911_11e9_bb8f_408d5c5958a8level0_row4\" class=\"row_heading level0 row4\" >Iskadarya95</th>\n",
       "                        <td id=\"T_28680f08_c911_11e9_bb8f_408d5c5958a8row4_col0\" class=\"data row4 col0\" >3</td>\n",
       "                        <td id=\"T_28680f08_c911_11e9_bb8f_408d5c5958a8row4_col1\" class=\"data row4 col1\" >$4.37</td>\n",
       "                        <td id=\"T_28680f08_c911_11e9_bb8f_408d5c5958a8row4_col2\" class=\"data row4 col2\" >$13.10</td>\n",
       "            </tr>\n",
       "    </tbody></table>"
      ],
      "text/plain": [
       "<pandas.io.formats.style.Styler at 0x1e920956d88>"
      ]
     },
     "execution_count": 17,
     "metadata": {},
     "output_type": "execute_result"
    }
   ],
   "source": [
    "sn_total_purchase = df.groupby('SN')['Price'].sum().to_frame()\n",
    "sn_purchase_count = df.groupby('SN')['Price'].count().to_frame()\n",
    "sn_purchase_avg = df.groupby('SN')['Price'].mean().to_frame()\n",
    "\n",
    "sn_total_purchase.columns=[\"Total Purchase Value\"]\n",
    "join_one = sn_total_purchase.join(sn_purchase_count, how=\"left\")\n",
    "join_one.columns=[\"Total Purchase Value\", \"Purchase Count\"]\n",
    "\n",
    "join_two = join_one.join(sn_purchase_avg, how=\"inner\")\n",
    "join_two.columns=[\"Total Purchase Value\", \"Purchase Count\", \"Average Purchase Price\"]\n",
    "\n",
    "top_spenders_df = join_two[[\"Purchase Count\", \"Average Purchase Price\", \"Total Purchase Value\"]]\n",
    "top_spenders_final = top_spenders_df.sort_values('Total Purchase Value', ascending=False).head()\n",
    "top_spenders_final.style.format({\"Average Purchase Price\": \"${:.2f}\", \"Total Purchase Value\": \"${:.2f}\"})"
   ]
  },
  {
   "cell_type": "code",
   "execution_count": 18,
   "metadata": {},
   "outputs": [
    {
     "data": {
      "text/html": [
       "<style  type=\"text/css\" >\n",
       "</style><table id=\"T_313c6912_c911_11e9_86fa_408d5c5958a8\" ><thead>    <tr>        <th class=\"blank\" ></th>        <th class=\"blank level0\" ></th>        <th class=\"col_heading level0 col0\" >Purchase Count</th>        <th class=\"col_heading level0 col1\" >Item Price</th>        <th class=\"col_heading level0 col2\" >Total Purchase Value</th>    </tr>    <tr>        <th class=\"index_name level0\" >Item Name</th>        <th class=\"index_name level1\" >Item ID</th>        <th class=\"blank\" ></th>        <th class=\"blank\" ></th>        <th class=\"blank\" ></th>    </tr></thead><tbody>\n",
       "                <tr>\n",
       "                        <th id=\"T_313c6912_c911_11e9_86fa_408d5c5958a8level0_row0\" class=\"row_heading level0 row0\" >Oathbreaker, Last Hope of the Breaking Storm</th>\n",
       "                        <th id=\"T_313c6912_c911_11e9_86fa_408d5c5958a8level1_row0\" class=\"row_heading level1 row0\" >178</th>\n",
       "                        <td id=\"T_313c6912_c911_11e9_86fa_408d5c5958a8row0_col0\" class=\"data row0 col0\" >12</td>\n",
       "                        <td id=\"T_313c6912_c911_11e9_86fa_408d5c5958a8row0_col1\" class=\"data row0 col1\" >$4.23</td>\n",
       "                        <td id=\"T_313c6912_c911_11e9_86fa_408d5c5958a8row0_col2\" class=\"data row0 col2\" >$50.76</td>\n",
       "            </tr>\n",
       "            <tr>\n",
       "                        <th id=\"T_313c6912_c911_11e9_86fa_408d5c5958a8level0_row1\" class=\"row_heading level0 row1\" >Nirvana</th>\n",
       "                        <th id=\"T_313c6912_c911_11e9_86fa_408d5c5958a8level1_row1\" class=\"row_heading level1 row1\" >82</th>\n",
       "                        <td id=\"T_313c6912_c911_11e9_86fa_408d5c5958a8row1_col0\" class=\"data row1 col0\" >9</td>\n",
       "                        <td id=\"T_313c6912_c911_11e9_86fa_408d5c5958a8row1_col1\" class=\"data row1 col1\" >$4.90</td>\n",
       "                        <td id=\"T_313c6912_c911_11e9_86fa_408d5c5958a8row1_col2\" class=\"data row1 col2\" >$44.10</td>\n",
       "            </tr>\n",
       "            <tr>\n",
       "                        <th id=\"T_313c6912_c911_11e9_86fa_408d5c5958a8level0_row2\" class=\"row_heading level0 row2\" >Fiery Glass Crusader</th>\n",
       "                        <th id=\"T_313c6912_c911_11e9_86fa_408d5c5958a8level1_row2\" class=\"row_heading level1 row2\" >145</th>\n",
       "                        <td id=\"T_313c6912_c911_11e9_86fa_408d5c5958a8row2_col0\" class=\"data row2 col0\" >9</td>\n",
       "                        <td id=\"T_313c6912_c911_11e9_86fa_408d5c5958a8row2_col1\" class=\"data row2 col1\" >$4.58</td>\n",
       "                        <td id=\"T_313c6912_c911_11e9_86fa_408d5c5958a8row2_col2\" class=\"data row2 col2\" >$41.22</td>\n",
       "            </tr>\n",
       "            <tr>\n",
       "                        <th id=\"T_313c6912_c911_11e9_86fa_408d5c5958a8level0_row3\" class=\"row_heading level0 row3\" >Extraction, Quickblade Of Trembling Hands</th>\n",
       "                        <th id=\"T_313c6912_c911_11e9_86fa_408d5c5958a8level1_row3\" class=\"row_heading level1 row3\" >108</th>\n",
       "                        <td id=\"T_313c6912_c911_11e9_86fa_408d5c5958a8row3_col0\" class=\"data row3 col0\" >9</td>\n",
       "                        <td id=\"T_313c6912_c911_11e9_86fa_408d5c5958a8row3_col1\" class=\"data row3 col1\" >$3.53</td>\n",
       "                        <td id=\"T_313c6912_c911_11e9_86fa_408d5c5958a8row3_col2\" class=\"data row3 col2\" >$31.77</td>\n",
       "            </tr>\n",
       "            <tr>\n",
       "                        <th id=\"T_313c6912_c911_11e9_86fa_408d5c5958a8level0_row4\" class=\"row_heading level0 row4\" >Singed Scalpel</th>\n",
       "                        <th id=\"T_313c6912_c911_11e9_86fa_408d5c5958a8level1_row4\" class=\"row_heading level1 row4\" >103</th>\n",
       "                        <td id=\"T_313c6912_c911_11e9_86fa_408d5c5958a8row4_col0\" class=\"data row4 col0\" >8</td>\n",
       "                        <td id=\"T_313c6912_c911_11e9_86fa_408d5c5958a8row4_col1\" class=\"data row4 col1\" >$4.35</td>\n",
       "                        <td id=\"T_313c6912_c911_11e9_86fa_408d5c5958a8row4_col2\" class=\"data row4 col2\" >$34.80</td>\n",
       "            </tr>\n",
       "            <tr>\n",
       "                        <th id=\"T_313c6912_c911_11e9_86fa_408d5c5958a8level0_row5\" class=\"row_heading level0 row5\" >Wolf</th>\n",
       "                        <th id=\"T_313c6912_c911_11e9_86fa_408d5c5958a8level1_row5\" class=\"row_heading level1 row5\" >60</th>\n",
       "                        <td id=\"T_313c6912_c911_11e9_86fa_408d5c5958a8row5_col0\" class=\"data row5 col0\" >8</td>\n",
       "                        <td id=\"T_313c6912_c911_11e9_86fa_408d5c5958a8row5_col1\" class=\"data row5 col1\" >$3.54</td>\n",
       "                        <td id=\"T_313c6912_c911_11e9_86fa_408d5c5958a8row5_col2\" class=\"data row5 col2\" >$28.32</td>\n",
       "            </tr>\n",
       "    </tbody></table>"
      ],
      "text/plain": [
       "<pandas.io.formats.style.Styler at 0x1e9209897c8>"
      ]
     },
     "execution_count": 18,
     "metadata": {},
     "output_type": "execute_result"
    }
   ],
   "source": [
    "#merge dataframes to find purchase count, total purchase value for items\n",
    "#reset indices to dataframes can be merged on specific elements\n",
    "premergeone = df.groupby(\"Item Name\").sum().reset_index()\n",
    "premergetwo = df.groupby(\"Item ID\").sum().reset_index()\n",
    "premergethree = df.groupby(\"Item Name\").count().reset_index()\n",
    "\n",
    "#merge dataframes\n",
    "mergeone = pd.merge(premergeone, premergetwo, on=\"Price\")\n",
    "mergetwo = pd.merge(premergethree, mergeone, on=\"Item Name\")\n",
    "\n",
    "#start to create final dataframe by manipulating data\n",
    "mergetwo[\"Gender\"] = (mergetwo[\"Price_y\"]/mergetwo[\"Item ID\"]).round(2)\n",
    "\n",
    "mergetwo_renamed = mergetwo.rename(columns={\"Age\": \"Purchase Count\", \"Gender\": \"Item Price\", \"Item ID\": \"null\", \"Price_y\": \"Total Purchase Value\", \"Item ID_y\": \"Item ID\"})\n",
    "\n",
    "#grab columns we are looking for\n",
    "clean_df = mergetwo_renamed[[\"Item ID\", \"Item Name\", \"Purchase Count\", \"Item Price\", \"Total Purchase Value\"]]\n",
    "\n",
    "prefinal_df = clean_df.set_index(['Item Name', 'Item ID'])\n",
    "popular_items_final = prefinal_df.sort_values('Purchase Count', ascending=False).head(6)\n",
    "popular_items_final.style.format({\"Item Price\": \"${:.2f}\", \"Total Purchase Value\": \"${:.2f}\"})"
   ]
  },
  {
   "cell_type": "code",
   "execution_count": 19,
   "metadata": {},
   "outputs": [
    {
     "data": {
      "text/html": [
       "<style  type=\"text/css\" >\n",
       "</style><table id=\"T_36bbc7e8_c911_11e9_88c7_408d5c5958a8\" ><thead>    <tr>        <th class=\"blank\" ></th>        <th class=\"blank level0\" ></th>        <th class=\"col_heading level0 col0\" >Purchase Count</th>        <th class=\"col_heading level0 col1\" >Item Price</th>        <th class=\"col_heading level0 col2\" >Total Purchase Value</th>    </tr>    <tr>        <th class=\"index_name level0\" >Item Name</th>        <th class=\"index_name level1\" >Item ID</th>        <th class=\"blank\" ></th>        <th class=\"blank\" ></th>        <th class=\"blank\" ></th>    </tr></thead><tbody>\n",
       "                <tr>\n",
       "                        <th id=\"T_36bbc7e8_c911_11e9_88c7_408d5c5958a8level0_row0\" class=\"row_heading level0 row0\" >Oathbreaker, Last Hope of the Breaking Storm</th>\n",
       "                        <th id=\"T_36bbc7e8_c911_11e9_88c7_408d5c5958a8level1_row0\" class=\"row_heading level1 row0\" >178</th>\n",
       "                        <td id=\"T_36bbc7e8_c911_11e9_88c7_408d5c5958a8row0_col0\" class=\"data row0 col0\" >12</td>\n",
       "                        <td id=\"T_36bbc7e8_c911_11e9_88c7_408d5c5958a8row0_col1\" class=\"data row0 col1\" >$4.23</td>\n",
       "                        <td id=\"T_36bbc7e8_c911_11e9_88c7_408d5c5958a8row0_col2\" class=\"data row0 col2\" >$50.76</td>\n",
       "            </tr>\n",
       "            <tr>\n",
       "                        <th id=\"T_36bbc7e8_c911_11e9_88c7_408d5c5958a8level0_row1\" class=\"row_heading level0 row1\" >Nirvana</th>\n",
       "                        <th id=\"T_36bbc7e8_c911_11e9_88c7_408d5c5958a8level1_row1\" class=\"row_heading level1 row1\" >82</th>\n",
       "                        <td id=\"T_36bbc7e8_c911_11e9_88c7_408d5c5958a8row1_col0\" class=\"data row1 col0\" >9</td>\n",
       "                        <td id=\"T_36bbc7e8_c911_11e9_88c7_408d5c5958a8row1_col1\" class=\"data row1 col1\" >$4.90</td>\n",
       "                        <td id=\"T_36bbc7e8_c911_11e9_88c7_408d5c5958a8row1_col2\" class=\"data row1 col2\" >$44.10</td>\n",
       "            </tr>\n",
       "            <tr>\n",
       "                        <th id=\"T_36bbc7e8_c911_11e9_88c7_408d5c5958a8level0_row2\" class=\"row_heading level0 row2\" >Fiery Glass Crusader</th>\n",
       "                        <th id=\"T_36bbc7e8_c911_11e9_88c7_408d5c5958a8level1_row2\" class=\"row_heading level1 row2\" >145</th>\n",
       "                        <td id=\"T_36bbc7e8_c911_11e9_88c7_408d5c5958a8row2_col0\" class=\"data row2 col0\" >9</td>\n",
       "                        <td id=\"T_36bbc7e8_c911_11e9_88c7_408d5c5958a8row2_col1\" class=\"data row2 col1\" >$4.58</td>\n",
       "                        <td id=\"T_36bbc7e8_c911_11e9_88c7_408d5c5958a8row2_col2\" class=\"data row2 col2\" >$41.22</td>\n",
       "            </tr>\n",
       "            <tr>\n",
       "                        <th id=\"T_36bbc7e8_c911_11e9_88c7_408d5c5958a8level0_row3\" class=\"row_heading level0 row3\" >Singed Scalpel</th>\n",
       "                        <th id=\"T_36bbc7e8_c911_11e9_88c7_408d5c5958a8level1_row3\" class=\"row_heading level1 row3\" >103</th>\n",
       "                        <td id=\"T_36bbc7e8_c911_11e9_88c7_408d5c5958a8row3_col0\" class=\"data row3 col0\" >8</td>\n",
       "                        <td id=\"T_36bbc7e8_c911_11e9_88c7_408d5c5958a8row3_col1\" class=\"data row3 col1\" >$4.35</td>\n",
       "                        <td id=\"T_36bbc7e8_c911_11e9_88c7_408d5c5958a8row3_col2\" class=\"data row3 col2\" >$34.80</td>\n",
       "            </tr>\n",
       "            <tr>\n",
       "                        <th id=\"T_36bbc7e8_c911_11e9_88c7_408d5c5958a8level0_row4\" class=\"row_heading level0 row4\" >Lightning, Etcher of the King</th>\n",
       "                        <th id=\"T_36bbc7e8_c911_11e9_88c7_408d5c5958a8level1_row4\" class=\"row_heading level1 row4\" >59</th>\n",
       "                        <td id=\"T_36bbc7e8_c911_11e9_88c7_408d5c5958a8row4_col0\" class=\"data row4 col0\" >8</td>\n",
       "                        <td id=\"T_36bbc7e8_c911_11e9_88c7_408d5c5958a8row4_col1\" class=\"data row4 col1\" >$4.23</td>\n",
       "                        <td id=\"T_36bbc7e8_c911_11e9_88c7_408d5c5958a8row4_col2\" class=\"data row4 col2\" >$33.84</td>\n",
       "            </tr>\n",
       "    </tbody></table>"
      ],
      "text/plain": [
       "<pandas.io.formats.style.Styler at 0x1e920921d88>"
      ]
     },
     "execution_count": 19,
     "metadata": {},
     "output_type": "execute_result"
    }
   ],
   "source": [
    "#use prefinal dataframe from prior to step to find most profitable items\n",
    "\n",
    "profit_items_final = prefinal_df.sort_values('Total Purchase Value', ascending=False).head()\n",
    "profit_items_final.style.format({\"Item Price\": \"${:.2f}\", \"Total Purchase Value\": \"${:.2f}\"})"
   ]
  }
 ],
 "metadata": {
  "kernelspec": {
   "display_name": "Python 3",
   "language": "python",
   "name": "python3"
  },
  "language_info": {
   "codemirror_mode": {
    "name": "ipython",
    "version": 3
   },
   "file_extension": ".py",
   "mimetype": "text/x-python",
   "name": "python",
   "nbconvert_exporter": "python",
   "pygments_lexer": "ipython3",
   "version": "3.7.4"
  }
 },
 "nbformat": 4,
 "nbformat_minor": 2
}
